{
 "cells": [
  {
   "cell_type": "markdown",
   "id": "e863bfe9",
   "metadata": {},
   "source": [
    "# Alguém disse Excel??\n",
    "\n",
    "Quem programa a certo tempo, geralmente tenta associar as coisas que aprendeu em outras linguagens, na lova linguagem de aprendizado. Entretanto cada linguagem tem um jeito diferente de se fazer as coisas.\n",
    "\n",
    "\n",
    "# Motivação\n",
    "\n",
    "Eu estou no processo de aprendizado de Julia, e por conta disso eu quero aprender como escrever código da forma indicada pela documentação do Julia. Esse repositório é uma tentativa  de praticar Julia e fazer um material \"Hands-on Julia From Scratch\"."
   ]
  },
  {
   "cell_type": "markdown",
   "id": "78141108",
   "metadata": {},
   "source": [
    "# Entendendo um pouco sobre Arrays\n",
    "\n",
    "Um vetor pode ser criado simplesmente colocando valores entre colchetes e separando os valores por vírgula."
   ]
  },
  {
   "cell_type": "code",
   "execution_count": 12,
   "id": "66e48324",
   "metadata": {},
   "outputs": [
    {
     "data": {
      "text/plain": [
       "3-element Vector{Int64}:\n",
       " 1\n",
       " 4\n",
       " 5"
      ]
     },
     "execution_count": 12,
     "metadata": {},
     "output_type": "execute_result"
    }
   ],
   "source": [
    "A = [1,4,5]"
   ]
  },
  {
   "cell_type": "markdown",
   "id": "8ce3052f",
   "metadata": {},
   "source": [
    "## Concatenação Vertical\n",
    "\n",
    "Para concatenar verticalmente. Os valores devem ser separados por ponto e vírgula (;) ou por quebra de linha"
   ]
  },
  {
   "cell_type": "code",
   "execution_count": 13,
   "id": "6a52c3af",
   "metadata": {},
   "outputs": [
    {
     "name": "stdout",
     "output_type": "stream",
     "text": [
      "(3,)(3,)(3,)(1, 3)"
     ]
    }
   ],
   "source": [
    "B = [1\n",
    "     4 \n",
    "     5]\n",
    "\n",
    "C = [1 ; 4 ; 5]\n",
    "\n",
    "print(size(A))\n",
    "print(size(B))\n",
    "print(size(C))\n",
    "print(size([1 4 5]))"
   ]
  },
  {
   "cell_type": "markdown",
   "id": "18d98189",
   "metadata": {},
   "source": [
    "Então se eu quiser fazer uma Matriz M com dimensões 3x2, posso fazer da seguinte forma:"
   ]
  },
  {
   "cell_type": "code",
   "execution_count": null,
   "id": "c310d74e",
   "metadata": {},
   "outputs": [],
   "source": []
  },
  {
   "cell_type": "markdown",
   "id": "4dd6684f",
   "metadata": {},
   "source": [
    "# Comprehensions\n",
    "\n",
    "Comprehensions, são uma poderosa forma de construir arrays.\n",
    "A sintaxe consiste em\n",
    "\n",
    "variável = [funcao(x, y, ...) for x=rx, y=ry, ... ]\n",
    "\n",
    "A funcao vai ser aplicada para todos os valores de x contidos em rx e y contidos em ry e assim sucessivamente.\n",
    "\n",
    "### Exemplos\n",
    "A seguir iremos fazer os seguintes casos.\n",
    "\n",
    "1. Um array com os números pares menor do que 16, e tirar a raiz de cada valor.\n",
    "2. Criar uma matriz, que o valor de $ a_{ij}$ é produto da multiplicação de $i$ por $j$"
   ]
  },
  {
   "cell_type": "code",
   "execution_count": 14,
   "id": "b72ca4df",
   "metadata": {},
   "outputs": [
    {
     "data": {
      "text/plain": [
       "9-element Vector{Float64}:\n",
       " 0.0\n",
       " 1.4142135623730951\n",
       " 2.0\n",
       " 2.449489742783178\n",
       " 2.8284271247461903\n",
       " 3.1622776601683795\n",
       " 3.4641016151377544\n",
       " 3.7416573867739413\n",
       " 4.0"
      ]
     },
     "execution_count": 14,
     "metadata": {},
     "output_type": "execute_result"
    }
   ],
   "source": [
    "# Primeiro Exemplo\n",
    "start = 0\n",
    "step = 2\n",
    "stop = 16\n",
    "raiz_numeros_pares_menores_que_20 = [√x for x=start:step:stop]"
   ]
  },
  {
   "cell_type": "code",
   "execution_count": 15,
   "id": "d7d19c57",
   "metadata": {},
   "outputs": [
    {
     "data": {
      "text/plain": [
       "8×8 Matrix{Float64}:\n",
       "  2.0   4.0   6.0    8.0   10.0   12.0   14.0   16.0\n",
       "  6.0  12.0  18.0   24.0   30.0   36.0   42.0   48.0\n",
       " 10.0  20.0  30.0   40.0   50.0   60.0   70.0   80.0\n",
       " 14.0  28.0  42.0   56.0   70.0   84.0   98.0  112.0\n",
       " 18.0  36.0  54.0   72.0   90.0  108.0  126.0  144.0\n",
       " 22.0  44.0  66.0   88.0  110.0  132.0  154.0  176.0\n",
       " 26.0  52.0  78.0  104.0  130.0  156.0  182.0  208.0\n",
       " 30.0  60.0  90.0  120.0  150.0  180.0  210.0  240.0"
      ]
     },
     "execution_count": 15,
     "metadata": {},
     "output_type": "execute_result"
    }
   ],
   "source": [
    "start = 1\n",
    "step = 2\n",
    "stop = 15\n",
    "produto_indices_matriz = Float64[x * y for x=start:step:stop, y=start+1:step:stop+1]"
   ]
  },
  {
   "cell_type": "markdown",
   "id": "0ec3b78b",
   "metadata": {},
   "source": [
    "# Como acessar os valores do Array (Indexação)\n",
    "\n",
    "A sintaxe se dá da seguinte forma:\n",
    "\n",
    "$X = M[I_1, I_2, I_3, ..., I_n]$\n",
    "\n",
    "Aonde $k$ em $I_k$ corresponde a um eixo da matriz M.\n",
    "\n",
    "## Coletar todos os valores de um eixo específico.\n",
    "\n",
    "para coletar todos os valores de um eixo específico, basta utilizar os dois pontos (:), da seguinte forma\n",
    "\n",
    "Todos os valores da primeira linha de uma Matriz -> M[1, :]\n",
    "Todos os valores da terceira coluna de uma Matriz -> M[:, 3]\n",
    "\n",
    "\n",
    "\n",
    "\n",
    "## Exemplos\n",
    "\n",
    "Iremos utiliza a matriz **produto_indices_matriz**, acessaremos posições específicas da Matriz\n",
    "\n",
    "1. i = 3, j = 5\n",
    "2. i = 1, j = 4\n",
    "\n"
   ]
  },
  {
   "cell_type": "code",
   "execution_count": 16,
   "id": "067605df",
   "metadata": {},
   "outputs": [
    {
     "name": "stdout",
     "output_type": "stream",
     "text": [
      "50.0\n",
      "8.0\n",
      "[2.0, 4.0, 6.0, 8.0, 10.0, 12.0, 14.0, 16.0]\n",
      "[6.0, 18.0, 30.0, 42.0, 54.0, 66.0, 78.0, 90.0]\n"
     ]
    }
   ],
   "source": [
    "println(produto_indices_matriz[3, 5])\n",
    "println(produto_indices_matriz[1, 4])\n",
    "println(produto_indices_matriz[1, :])\n",
    "println(produto_indices_matriz[:, 3])"
   ]
  },
  {
   "cell_type": "code",
   "execution_count": 17,
   "id": "a7c460f1",
   "metadata": {},
   "outputs": [
    {
     "name": "stdout",
     "output_type": "stream",
     "text": [
      "[2.0, 4.0, 6.0, 8.0, 10.0, 12.0, 14.0, 16.0]\n",
      "[6.0, 18.0, 30.0, 42.0, 54.0, 66.0, 78.0, 90.0]\n"
     ]
    }
   ],
   "source": [
    "println(getindex(produto_indices_matriz, 1, :))\n",
    "println(getindex(produto_indices_matriz, :, 3))"
   ]
  },
  {
   "cell_type": "code",
   "execution_count": 18,
   "id": "8be4207a",
   "metadata": {},
   "outputs": [
    {
     "data": {
      "text/plain": [
       "2×8 Matrix{Float64}:\n",
       " 0.871262  0.318726  0.695168  0.186342  …  0.894805  0.911034  0.144943\n",
       " 0.188167  0.526658  0.95052   0.996474     0.374025  0.19885   0.484466"
      ]
     },
     "execution_count": 18,
     "metadata": {},
     "output_type": "execute_result"
    }
   ],
   "source": [
    "new_vector = rand(Float64, 2, 8)"
   ]
  },
  {
   "cell_type": "code",
   "execution_count": 19,
   "id": "a5bdc582",
   "metadata": {},
   "outputs": [
    {
     "data": {
      "text/plain": [
       "10×8 Matrix{Float64}:\n",
       "  2.0        4.0        6.0       …   12.0        14.0        16.0\n",
       "  6.0       12.0       18.0           36.0        42.0        48.0\n",
       " 10.0       20.0       30.0           60.0        70.0        80.0\n",
       " 14.0       28.0       42.0           84.0        98.0       112.0\n",
       " 18.0       36.0       54.0          108.0       126.0       144.0\n",
       " 22.0       44.0       66.0       …  132.0       154.0       176.0\n",
       " 26.0       52.0       78.0          156.0       182.0       208.0\n",
       " 30.0       60.0       90.0          180.0       210.0       240.0\n",
       "  0.871262   0.318726   0.695168       0.894805    0.911034    0.144943\n",
       "  0.188167   0.526658   0.95052        0.374025    0.19885     0.484466"
      ]
     },
     "execution_count": 19,
     "metadata": {},
     "output_type": "execute_result"
    }
   ],
   "source": [
    "vcat(produto_indices_matriz, new_vector)"
   ]
  },
  {
   "cell_type": "code",
   "execution_count": null,
   "id": "a321a389",
   "metadata": {},
   "outputs": [],
   "source": []
  },
  {
   "cell_type": "code",
   "execution_count": null,
   "id": "c3b65c68",
   "metadata": {},
   "outputs": [],
   "source": []
  }
 ],
 "metadata": {
  "kernelspec": {
   "display_name": "Julia 1.6.2",
   "language": "julia",
   "name": "julia-1.6"
  },
  "language_info": {
   "file_extension": ".jl",
   "mimetype": "application/julia",
   "name": "julia",
   "version": "1.6.2"
  }
 },
 "nbformat": 4,
 "nbformat_minor": 5
}
